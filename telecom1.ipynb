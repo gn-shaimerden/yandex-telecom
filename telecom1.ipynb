<h1>Table of Contents<span class="tocSkip"></span></h1>
<div class="toc"><ul class="toc-item"><li><span><a href="#Определение-перспективного-тарифа-для-телеком-компании" data-toc-modified-id="Определение-перспективного-тарифа-для-телеком-компании-1"><span class="toc-item-num">1&nbsp;&nbsp;</span>Определение перспективного тарифа для телеком компании</a></span><ul class="toc-item"><li><span><a href="#Шаг-1.-Изучение-общей-информации." data-toc-modified-id="Шаг-1.-Изучение-общей-информации.-1.1"><span class="toc-item-num">1.1&nbsp;&nbsp;</span>Шаг 1. Изучение общей информации.</a></span><ul class="toc-item"><li><span><a href="#Вывод" data-toc-modified-id="Вывод-1.1.1"><span class="toc-item-num">1.1.1&nbsp;&nbsp;</span>Вывод</a></span></li></ul></li><li><span><a href="#Шаг-2.-Подготовка-данных" data-toc-modified-id="Шаг-2.-Подготовка-данных-1.2"><span class="toc-item-num">1.2&nbsp;&nbsp;</span>Шаг 2. Подготовка данных</a></span><ul class="toc-item"><li><span><a href="#Вывод" data-toc-modified-id="Вывод-1.2.1"><span class="toc-item-num">1.2.1&nbsp;&nbsp;</span>Вывод</a></span></li></ul></li><li><span><a href="#Шаг-3.-Анализ-данных" data-toc-modified-id="Шаг-3.-Анализ-данных-1.3"><span class="toc-item-num">1.3&nbsp;&nbsp;</span>Шаг 3. Анализ данных</a></span><ul class="toc-item"><li><span><a href="#Вывод" data-toc-modified-id="Вывод-1.3.1"><span class="toc-item-num">1.3.1&nbsp;&nbsp;</span>Вывод</a></span></li></ul></li><li><span><a href="#4.2-Проверка-гипотез" data-toc-modified-id="4.2-Проверка-гипотез-1.4"><span class="toc-item-num">1.4&nbsp;&nbsp;</span>4.2 Проверка гипотез</a></span><ul class="toc-item"><li><span><a href="#4.2-Вывод" data-toc-modified-id="4.2-Вывод-1.4.1"><span class="toc-item-num">1.4.1&nbsp;&nbsp;</span>4.2 Вывод</a></span></li></ul></li><li><span><a href="#Вывод" data-toc-modified-id="Вывод-1.5"><span class="toc-item-num">1.5&nbsp;&nbsp;</span>Вывод</a></span></li></ul></li></ul></div>

# Определение перспективного тарифа для телеком компании

В нашем распоряжении данные компании «Мегалайн» — федерального оператора сотовой связи. 

**Бизнес-проблема:** Клиентам предлагают два тарифных плана: «Смарт» и «Ультра». Чтобы скорректировать рекламный бюджет, коммерческий департамент хочет понять, какой тариф приносит больше денег.
Вам предстоит сделать предварительный анализ тарифов на небольшой выборке клиентов. В нашем распоряжении данные 500 пользователей «Мегалайна»: кто они, откуда, каким тарифом пользуются, сколько звонков и сообщений каждый отправил за 2018 год. Нужно проанализировать поведение клиентов и сделать вывод — какой тариф лучше.

**Описание тарифов:**
- Тариф «Смарт»:
Ежемесячная плата: 550 рублей
Включено 500 минут разговора, 50 сообщений и 15 Гб интернет-трафика
Стоимость услуг сверх тарифного пакета:
минута разговора: 3 рубля
сообщение: 3 рубля
1 Гб интернет-трафика: 200 рублей
- Тариф «Ультра»
Ежемесячная плата: 1950 рублей
Включено 3000 минут разговора, 1000 сообщений и 30 Гб интернет-трафика
Стоимость услуг сверх тарифного пакета:
минута разговора: 1 рубль
сообщение: 1 рубль
1 Гб интернет-трафика: 150 рублей
Нужно обратить внимание: «Мегалайн» всегда округляет вверх значения минут и мегабайтов. Если пользователь проговорил всего 1 секунду, в тарифе засчитывается целая минута.

**Описание данных:**
- Таблица users (информация о пользователях):
- user_id — уникальный идентификатор пользователя
- first_name — имя пользователя
- last_name — фамилия пользователя
- age — возраст пользователя (годы)
- reg_date — дата подключения тарифа (день, месяц, год)
- churn_date — дата прекращения пользования тарифом (если значение пропущено, то тариф ещё действовал на момент выгрузки данных)
- city — город проживания пользователя
- tariff — название тарифного плана
Таблица calls (информация о звонках):
- id — уникальный номер звонка
- call_date — дата звонка
- duration — длительность звонка в минутах
- user_id — идентификатор пользователя, сделавшего звонок
Таблица messages (информация о сообщениях):
- id — уникальный номер сообщения
- message_date — дата сообщения
- user_id — идентификатор пользователя, отправившего сообщение
Таблица internet (информация об интернет-сессиях):
- id — уникальный номер сессии
- mb_used — объём потраченного за сессию интернет-трафика (в мегабайтах)
- session_date — дата интернет-сессии
- user_id — идентификатор пользователя
Таблица tariffs (информация о тарифах):
- tariff_name — название тарифа
- rub_monthly_fee — ежемесячная абонентская плата в рублях
- minutes_included — количество минут разговора в месяц, включённых в абонентскую плату
- messages_included — количество сообщений в месяц, включённых в абонентскую плату
- mb_per_month_included — объём интернет-трафика, включённого в абонентскую плату (в мегабайтах)
- rub_per_minute — стоимость минуты разговора сверх тарифного пакета (например, если в тарифе 100 минут разговора в месяц, то со 101 минуты будет взиматься плата)
- rub_per_message — стоимость отправки сообщения сверх тарифного пакета
- rub_per_gb — стоимость дополнительного гигабайта интернет-трафика сверх тарифного пакета (1 гигабайт = 1024 мегабайта)

**План действий:** изучить общую информацию о файле с данными, сделать предобработку данных (заполнить пропущенные данные, тип данных поменять, проверить на дубликаты и т.д.), сделать анализ на основе данных, на основе этих данных проанализировать какой тариф лучше, сделать общий вывод.

## Шаг 1. Изучение общей информации. 

import pandas as pd
from IPython.display import display
users = pd.read_csv('Downloads/users.csv')

users.info() #получаем общую информацию о файле users
users.columns #получаем информацию о столбцах
users.head(10) #первые 10 строк

calls = pd.read_csv('Downloads/calls.csv')

calls.info() #получаем общую информацию о файле
calls.columns #получаем информацию о столбцах
calls.head(10)

messages = pd.read_csv('Downloads/messages.csv')

messages.info() #получаем общую информацию о файле
messages.columns #получаем информацию о столбцах
messages.head(10)

internet = pd.read_csv('Downloads/internet.csv')

internet.info() #получаем общую информацию о файле
internet.columns #получаем информацию о столбцах
internet.head(10)

tariffs = pd.read_csv('Downloads/tariffs.csv')

tariffs.info() #получаем общую информацию о файле users
tariffs.columns #получаем информацию о столбцах
tariffs.head(10)

### Вывод

У нас есть 5 таблиц, каждый содержит в себе информацию о клиенте, тарифе и использованных тарифах клиента. Проблемы, которые нужно решить: обработка (некорректных данных, дубликатов) и замена типа данных. Дальше, на основе статистических данных нужно сделать вывод о том, какой тариф больше прибыли приносит.

Для проверки рабочих гипотез особенно ценны столбцы:
duration — длительность звонка в минутах
mb_used — объём потраченного за сессию интернет-трафика (в мегабайтах)
message_date -  дата отправки сообщения(по нему будем определять количество отправленных сообщении)
rub_monthly_fee — ежемесячная абонентская плата в рублях
minutes_included — количество минут разговора в месяц, включённых в абонентскую плату
messages_included — количество сообщений в месяц, включённых в абонентскую плату
mb_per_month_included — объём интернет-трафика, включённого в абонентскую плату (в мегабайтах)
rub_per_minute — стоимость минуты разговора сверх тарифного пакета (например, если в тарифе 100 минут разговора в месяц, то со 101 минуты будет взиматься плата)
rub_per_message — стоимость отправки сообщения сверх тарифного пакета
rub_per_gb — стоимость дополнительного гигабайта интернет-трафика сверх тарифного пакета (1 гигабайт = 1024 мегабайта)

## Шаг 2. Подготовка данных

users.isna().sum() # узнаем суммарное количество пропусков, выявленных методом isnull() в таблице users

users['churn_date'] = users['churn_date'].fillna(value='') #заполняем пропуски в столбце на пустое значение

users.isna().sum() # еще раз проверяем

users['churn_date']= pd.to_datetime(users['churn_date'], format='%Y-%m-%d') #меняем тип данных в формат даты
users['reg_date']= pd.to_datetime(users['reg_date'], format='%Y-%m-%d')#меняем тип данных в формат даты
users.dtypes

calls.isna().sum()#количество пропусков смотрим

import matplotlib.pyplot as plt #анализируем есть ли аномалии в таблице
users['age'].hist(bins=100) 
plt.show()

users.age.quantile([0.25,0.5,0.75])

import seaborn as sns
sns.boxplot(x='age', palette='rainbow', data=users)
plt.show()

import matplotlib.pyplot as plt#анализируем есть ли аномалии в таблице calls
calls['duration'].hist(bins=100) 
plt.show()

calls.duration.quantile([0.25,0.5,0.75])

import seaborn as sns
sns.boxplot(x='duration', palette='rainbow', data=calls)
plt.show()

calls['call_date']= pd.to_datetime(calls['call_date'], format='%Y-%m-%d')#меняем тип данных
calls.dtypes

calls['duration'].value_counts() #смотрим какие данные у нас есть

calls = calls.query('duration > 0.00') #сделаем срез данных со значением больше 0мин разговора, так как 0мин посчиатем как пропущенные звонки
calls.head(10)

calls['duration'].value_counts() #проверяем 

messages['message_date']= pd.to_datetime(messages['message_date'], format='%Y-%m-%d') #формат меняем на дату
messages.dtypes

internet['session_date']= pd.to_datetime(internet['session_date'], format='%Y-%m-%d')# формат меняем на дату
internet.dtypes

internet['mb_used'].value_counts()

internet['mb_used'] = internet['mb_used']/1024 #мб переобразуем в гб
internet.set_axis(['Index', 'id', 'gb_used', 'session_date', 'user_id'], axis='columns', inplace=True)#переименуем название столбца с мб на гб
internet.head()

import matplotlib.pyplot as plt#анализируем есть ли аномалии в таблице calls
internet['gb_used'].hist(bins=100) 
plt.show()

internet.describe()

internet.gb_used.quantile([0.25,0.5,0.75])

import seaborn as sns
sns.boxplot(x='gb_used', palette='rainbow', data=internet)
plt.show()

internet = internet.query('gb_used > 0.00') #сделаем срез данных со значением больше 0мин интернет сессии
internet.head(10)

internet['gb_used'].value_counts() #проверяем получилось ли избавиться от данных равные 0гб

tariffs.columns

tariffs['mb_per_month_included'] = tariffs['mb_per_month_included']/1024 #мб переобразуем в гб
tariffs.set_axis(['messages_included', 'gb_per_month_included', 'minutes_included','rub_monthly_fee', 'rub_per_gb', 'rub_per_message', 'rub_per_minute', 'tariff'], axis='columns', inplace=True)#переименуем название столбца с мб на гб, и столбец tariff_name на tariff
tariffs.head()

print(users.duplicated().sum()) #получаем суммарное количество дубликатов в таблице
print(calls.duplicated().sum())
print(messages.duplicated().sum())
print(internet.duplicated().sum())
print(tariffs.duplicated().sum())

users = users[['user_id','age', 'churn_date', 'reg_date', 'city', 'tariff']]#выбираем столбцы которые нам нужны
users.head()

users['days'] = (users['churn_date'] - users['reg_date']).dt.days
users.tail(10) 

users_days = users.query('days > 0')
users_days['tariff'].value_counts()

users_days['city'].value_counts()

users['city'].value_counts()

users = users.merge(tariffs)#объединяем таблицы
users.head()

users_calls = users.merge(calls, on='user_id', how='left')#объединяем таблицы
users_calls.head(10) 

users_calls['month'] = users_calls['call_date'].dt.month#извлекаем месяцы с даты

users_grouped = users_calls.groupby(['user_id', 'age', 'city', 'tariff', 'messages_included', 'gb_per_month_included', 'minutes_included', 'rub_monthly_fee', 'rub_per_gb', 'rub_per_message', 'rub_per_minute', 'month'])['duration'].agg(['sum', 'count'])
users_grouped.columns = ['minutes_used', 'call_count'] #переименуем название столбцов
users_grouped.head(10)

users_message = users.merge(messages, on='user_id', how='left')#объединяем таблицы
users_message.head(10) 

users_message['month'] = users_message['message_date'].dt.month#извлекаем месяцы с даты

users_mess_grouped = users_message.groupby(['user_id', 'tariff', 'age',  'city', 'messages_included', 'gb_per_month_included', 'minutes_included', 'rub_monthly_fee', 'rub_per_gb', 'rub_per_message', 'rub_per_minute', 'month'])['message_date'].agg(['count'])
users_mess_grouped.columns = ['messages_used'] 

users_mess_grouped.head(10)

users_int = users.merge(internet, on='user_id', how='left')#объединяем таблицы
users_int.head(10)

users_int['month'] = users_int['session_date'].dt.month#извлекаем месяцы с даты
#создаем новый столбец gb_used - для использованного интернет трафика по месяцам
users_int_grouped = users_int.groupby(['user_id', 'age',  'city', 'tariff', 'messages_included', 'gb_per_month_included', 'minutes_included', 'rub_monthly_fee', 'rub_per_gb', 'rub_per_message', 'rub_per_minute', 'month'])['gb_used'].agg(['sum'])
users_int_grouped.columns = ['gb_used'] 
users_int_grouped.head(10)

#объединяем в одну таблицу все использованные трафики-минуты, смс, интернет
users_final = users_grouped.merge(users_mess_grouped, on=['user_id', 'age',  'city', 'tariff', 'messages_included', 'gb_per_month_included', 'minutes_included', 'rub_monthly_fee', 'rub_per_gb', 'rub_per_message', 'rub_per_minute', 'month'], how='left')
users_final = users_final.merge(users_int_grouped, on=['user_id', 'age',  'city', 'tariff', 'messages_included', 'gb_per_month_included', 'minutes_included', 'rub_monthly_fee', 'rub_per_gb', 'rub_per_message', 'rub_per_minute', 'month'], how='left')
users_final.head(10) 

users_final = users_final.reset_index()

def rpu(row):#revenue per user, создаем функцию, который считает доходы с каждого клиента по месяца
    minutes_used = row['minutes_used']
    messages_used = row['messages_used']
    gb_used = row['gb_used']
    minutes_included = row['minutes_included']
    messages_included = row['messages_included']
    gb_per_month_included = row['gb_per_month_included']
    rub_per_minute = row['rub_per_minute']
    rub_per_message = row['rub_per_message']
    rub_per_gb = row['rub_per_gb']
    fee = row['rub_monthly_fee']
    
    minute = minutes_used - minutes_included
    mes = messages_used - messages_included
    gb = gb_used - gb_per_month_included
    
    charge = fee
    if minute > 0:
        minute = minute * rub_per_minute
    else:
        minute = 0
    if mes > 0:
        mes = mes * rub_per_message
    else:
        mes = 0
    if gb > 0:
        gb = gb * rub_per_gb
    else:
        gb = 0
    charge += minute + mes + gb
    return charge

users_final['revenue'] = users_final.apply(rpu, axis=1)#создаем новый столбец 'revenue' с доходами от каждого пользователя по месяцам
users_final.head(10)

### Вывод

Работы сделанные с таблицей 'users':

- Пропуск в таблице 'users' в столбце 'churn_date' значение пропущено, потому что тариф ещё действовал на момент выгрузки данных, поэтому их оставила пустыми. 
- Изменила тип данных в столбцах 'churn_date' и 'reg_date' на формат даты

'calls':
- Заменила тип данных в столбце 'call_date' на формат даты
- В столбце 'duration' есть значения равные 0.0 сек., и количество таких значении 39613, что составляет 20% данных. Такие данные могут появиться если были пропущенные звонки, эти значения решила удалить, так как они могут отрицательно повлиять на результат.

'messages':
- Изменила тип данных столбца 'message_date' на формат даты

'internet'
- Изменила тип данных в столбце 'session_date' на формат даты
- В столбце 'mb_used' есть значения равные 0.0 мб, что составляет 13% данных (19598) решила удалить, чтобы они не повлияли на результат.
- Изменила мегабайты на гигабайты, чтобы все данные были в одном измерении

'tariffs'
- Изменила мегабайты на гигабайты, поделив на 1024

Дубликатов не было обнаружено.

Добавила новый столбец 'revenue' с помесячной выручкой от каждого пользователя.


## Шаг 3. Анализ данных

users_final.groupby('tariff')['minutes_used']
#считаем среднее количество потраченных минут,смс, интернета по тарифам
users_need = users_final.groupby('tariff') \
       .agg({'minutes_used':'mean', 'messages_used':'mean', 'gb_used':'mean'}) \
       .rename(columns={'minutes_used':'minute_need','messages_used':'message_need', 'gb_used':'gb_need', 'revenue':'revenue'}) \
       .reset_index()
users_need.head(24)

#считаем среднюю и дисперсию
import numpy as np
minutes_need = users_final.groupby('tariff')['minutes_used'] \
       .agg({'mean','var'}) \
       .rename(columns={'mean':'mean', 'var': 'dispersion'}) \
       .reset_index()
minutes_need['std'] = np.sqrt(minutes_need['dispersion']) #стандартное отклонение считаем
minutes_need

import matplotlib.pyplot as plt #создаем гистограмму разговора по минутам

users_final.groupby('tariff')['minutes_used'].plot(kind='hist', legend = True, alpha=0.7) #гистограмма для площади
ax = plt.gca() # получаем текущий объект Axes, на который ссылается ma.plot()
ax.set_xlabel('Минуты')
ax.set_ylabel('Частота')
ax.set_title('Гистограмма разговора в минутах')
plt.show()

#считаем среднюю и дисперсию по количеству отправленных сообщении
messages_need = users_final.groupby('tariff')['messages_used'] \
       .agg({'mean','var'}) \
       .rename(columns={'mean':'mean', 'var': 'dispersion'}) \
       .reset_index()
messages_need['std'] = np.sqrt(messages_need['dispersion'])
messages_need

import matplotlib.pyplot as plt #создаем гистограмму разговора по сообщениям

users_final.groupby('tariff')['messages_used'].plot(kind='hist', legend = True, alpha=0.7) #гистограмма для площади
ax = plt.gca() # получаем текущий объект Axes, на который ссылается ma.plot()
ax.set_xlabel('Отправленные сообщения')
ax.set_ylabel('Частота')
ax.set_title('Гистограмма отправления сообщении')
plt.show()

#считаем дисперсию и среднюю по использованному интернет трафику
gbs_need = users_final.groupby('tariff')['gb_used'] \
       .agg({'mean','var'}) \
       .rename(columns={'mean':'mean', 'var': 'dispersion'}) \
       .reset_index()
gbs_need['std'] = np.sqrt(gbs_need['dispersion'])
gbs_need

import matplotlib.pyplot as plt #создаем гистограмму интернет трафика

users_final.groupby('tariff')['gb_used'].plot(kind='hist', legend = True, alpha=0.7) #гистограмма для площади
ax = plt.gca() # получаем текущий объект Axes, на который ссылается ma.plot()
ax.set_xlabel('Использованный объем интернет трафик')
ax.set_ylabel('Частота')
ax.set_title('Гистограмма интернет трафика')
plt.show()

revenue_analyze = users_final.groupby('tariff')['revenue'].agg({'count', 'mean', 'sum'})#считаем общий доход, средний доход с каждого тарифа
revenue_analyze

users.groupby('tariff')['user_id'].count()#сколько людей пользуются разными тарифами

print(1.952038e+06)

smart= users_final.query('tariff == "smart"')#узнаем информацию о тарифе 'smart'
smart[{'minutes_used', 'messages_used', 'gb_used', 'revenue'}].describe()

ultra = users_final.query('tariff == "ultra"')#узнаем информацию о тарифе 'ultra'
ultra[{'minutes_used', 'messages_used', 'gb_used', 'revenue'}].describe()

smart_gb = users_final.query('tariff =="smart" and gb_used > 15')#сколько гб перевысили бесплатный 15гб
smart_gb['gb_excess'] = smart_gb['gb_used'] - 15#создаем столбец отдельно
sum_smart_gb= smart_gb['gb_excess'].sum()#суммируем все перевыысенные гб
sum_smart_gb


import matplotlib.pyplot as plt
smart['age'].hist(bins=100) 
plt.show()

smart['age'].describe()

import matplotlib.pyplot as plt
ultra['age'].hist(bins=100) 
plt.show()

ultra['age'].describe()

smart_min = smart.query('minutes_used > 500')
smart_min.user_id.unique()

smart_int = smart.query('gb_used > 15')
smart_int.user_id.unique()

import matplotlib.pyplot as plt
smart_int['age'].hist(bins=100) 
plt.show()

smart_sms = smart.query('messages_used > 50')
smart_sms.user_id.unique()

smart_all = smart.query('gb_used > 15 and minutes_used > 500 and messages_used > 50')
smart_all.user_id.unique()

ultra_all=ultra.query('gb_used > 30 and minutes_used > 3000 and messages_used > 1000')
ultra_all.user_id.unique()

### Вывод

Опишите поведение клиентов оператора, исходя из выборки. Сколько минут разговора, сколько сообщений и какой объём интернет-трафика требуется пользователям каждого тарифа в месяц? Посчитайте среднее количество, дисперсию и стандартное отклонение. Постройте гистограммы. Опишите распределения.

Клиенты тарифа "Ультра" в среднем укладываются в включенный бесплатный тариф, в среднем на разговоры тратят 517мин(из бесплатных 3000мин), отправляют 60 сообщении(1000 сообщении бесплатны), 20гб интернет трафика в среднем расходуют (из 30гб).
Если изучить стандартное отклонение тарифа "Ультра" видно, что стандартное отклонение разговора равен 288мин, что указывает повысить бесплатный лимит разговора(3000мин) мало вероятен, имея ввиду, что абоненты общаются в среднем 517мин. Стандартное отклонение сообщении равен 44, а в среднем отправляют 60 сообщении, значит бесплатные 1000собщении повысить маловероятно. И наконец, стандартное отклонение интернет трафика равен 10гб, а в среднем используют 20гб, и повысить включенный в тариф 30гб более реально. И если доход сверх абонентской платы будет, то только за повышение интернет-трафика.

А клиенты тарифа "Смарт" в среднем тратят 16гб(что больше на 1 гб чем положенный 15гб), 396мин  разговаривают(бесплатно 500мин), отправляют 38 сообщении(50 сообщении могут бесплатно внутри тарифа отправлять). 
Из стандартного отклонения тарифа "Смарт" можем понять, что среднее значение разговора равен 396мин, при этом возможно стандартное отклонение на 178мин - что указывает бесплатные 500мин могут повысить на 74мин(когда будет равен 574мин (396мин средних + 178мин станд.отклонения)). Сообщении в среднем отправляют 39, а стандартное отклонение возможен на 26 сообщении, тогда он превысит до 65сообщении. А интернет трафик используют в среднем 16гб, а стандартное отклонение равен 6гб(5.7гб округляем до 6гб), тогда он будет 22гб, что превысит включенный в тариф 15гб. Доход от этого тарифа, помимо абонентской платы возможен и за счет превышения всех трафиков интернета, смс и разговора.

Из гистограммы интернет-трафика тарифа "Смарт" видим, что больше всего абоненты тратят 16гб, а абоненты "Ультра" тратят 20гб.

В нашей выборке больше всего пользователей тарифа 'smart'-351, а у тарифа 'ultra' - 149. Средний доход от тарифа 'smart' вдвое больше(1198руб.), чем абонентская плата(550руб). А доход от тарифа 'ultra' выше на  При этом пользователи тарифа 'smart' приносят доходы больше абонентской платы, в то время от тарифа 'ultra' доход не превышает абонентскую плату. Так же, видим общее превышение использованных гигабайтов в тарифе 'smart' равен 5983гб, что если умножить на 200руб, принесет доход в размере 1.196.600руб. 
Можем сделать вывод что больше всего дохода приносит тариф 'smart'. У него больше всего пользователей и так как люди превышают выделенные трафики, можно заработать сверх абонентской оплаты.

## 4.2 Проверка гипотез

from scipy.stats import levene#тест Левена
sample_smart= users_final.query('tariff == "smart"')['revenue']
sample_ultra= users_final.query('tariff == "ultra"')['revenue']

stat, p = levene(sample_smart, sample_ultra)
p

from scipy import stats as st
sample_smart= users_final.query('tariff == "smart"')['revenue']
sample_ultra= users_final.query('tariff == "ultra"')['revenue']

alpha = .05 # критический уровень статистической значимости
    
results = st.ttest_ind(sample_ultra, sample_smart, equal_var = True)
    
print('p-значение: ', results.pvalue)

if (results.pvalue < alpha):
    print("Отвергаем нулевую гипотезу")
else:
    print("Не получилось отвергнуть нулевую гипотезу")

from scipy.stats import levene#тест Левена
sample_moscow= users_final.query('city == "Москва"')['revenue']
sample_other= users_final.query('city != "Москва"')['revenue']

stat, p = levene(sample_moscow, sample_other)
p

from scipy import stats as st
sample_moscow= users_final.query('city == "Москва"')['revenue']
sample_other= users_final.query('city != "Москва"')['revenue']

alpha = .05 # критический уровень статистической значимости
    
results = st.ttest_ind(sample_moscow, sample_other, equal_var = False)
    
print('p-значение: ', results.pvalue)

if (results.pvalue < alpha):
    print("Отвергаем нулевую гипотезу")
else:
    print("Не получилось отвергнуть нулевую гипотезу")

### 4.2 Вывод

- Средняя выручка пользователей тарифов «Ультра» и «Смарт» различается

Сформулируем гипотезы:
- Нулевая гипотеза: Выручка пользователей тарифов "Ультра" и "Смарт" равны 
- Алтернативная гипотеза: Выручка пользователей тарифов "Ультра" больше (или меньше),чем выручка от пользователей "Смарт"


Из результата сделаем вывод - отвергаем нулевую гипотезу, значит средняя выручка пользователей тарифов «Ультра» и «Смарт» различается.

- Средняя выручка пользователей из Москвы отличается от выручки пользователей из других регионов

Сформулируем гипотезы:
- Нулевая гипотеза: Выручка пользователей из Москвы и пользователей с других населенных пунктов равны 
- Алтернативная гипотеза: Выручка пользователей из Москвы больше (или меньше),чем выручка от других регионов

Вывод - не получилось отвергнуть нулевую гипотезу, значит выручка пользователей из Москвы и пользователей с других населенных регионов равны.

Пороговое значение alpha задала самостоятельно 0.05

Почему сформулировала гипотезы так?
- Во первых, нулевая гипотеза не является вопросом, на который мы отвечаем. Нулевая гипотеза всегда формулирует равенство чего-то. И здесь в первом вопросе нулевую гипотезу задала как равенство двух выручек от разных тарифов. И во втором вопросе как равенство выручки между Москвой и остальных населенных пунктов.
- Альтернативная может формулироваться как не-равно, больше, меньше в зависимости от проверяемой гипотезы. И здесь уже указала что средняя выручка с одной генеральной совокупности больше(или меньше), чем средняя выручка от другой генеральной совокупности.


## Вывод

1. Бизнес проблема

Компания "Мегалайн" предлагает клиентам два тарифных плана: «Смарт» и «Ультра». Нам нужно понять какой тарифный план приносит больше денег.
2. Какие данные у меня были?

У меня были данные в 5 таблицах: о клиенте, об использованных тарифных планах(разговор, сообщения, интернет трафик) и о самом тарифном плане. С какого города, возраст и имя-фамилия клиента, дата подключения и отключения тарифа и каким тарифным планом пользуется, сколько минут разговаривает по телефону, сколько сообщении и интернет-трафика использует.

3. Что я сделала?

Изучила общую информацию, подготовила данные к работе удалив пропущенные значения, изменив тип данных, меняя все данные к одному измерению(мб изменила в гб). Все таблицы объединила в одну таблицу, оставив только нужные столбцы. Данные посчитала объединив по месяцам, добавила новый столбец с доходам от каждого абонента по месяцам.
4. В итоге что я получила?

Используя гипотезы, сделала выводы, что - Средняя выручка пользователей тарифов «Ультра» и «Смарт» различается, а выручка пользователей из Москвы и пользователей с других населенных регионов равны.
По данным которые у меня были, узнали что больше всего дохода приносит тариф "Смарт", у него больше всего абонентов во-первых, во-вторых доход в среднем превышает в 2 раза больше абонентскую оплату, из за нехватки интернет-трафика, смс, и минут для разговора абоненты оплачивают сверх абонентской оплаты. Общий доход от тарифа "Смарт" равен 2.662.154руб. из них доход за абонентскую оплату составляет 1.221.550руб., а доход за превышение трафиков равен 1.440.604руб., из этого 1.196.600руб. доход за превышение интернет трафика.
А доход от тарифа "Ультра" равен 1.952.038руб., что меньше на 27% чем доход от тарифа "Смарт", при этом конечно абонентов у этого тарифа меньше. Доход в основном только за абонентскую оплату(1.846.650руб.), а доход за превышение тарифа равен всего 105.388руб., это указывает на то, что клиентам хватает включенных в тариф лимитов.
В целом, обе тарифа нужны. Если бы клиентов у тарифа "Ультра" было больше, то они безусловно принесли бы хороший доход. Но в целом, не все клиенты способны оплачивать 1950руб., поэтому у тарифа "Смарт" больше всего абонентов.
